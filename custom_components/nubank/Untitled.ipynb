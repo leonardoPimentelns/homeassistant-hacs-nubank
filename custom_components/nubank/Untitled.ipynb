{
 "cells": [
  {
   "cell_type": "code",
   "execution_count": 573,
   "id": "23300aee-b187-4b1f-bfcb-c3fc67bee07a",
   "metadata": {},
   "outputs": [
    {
     "data": {
      "text/plain": [
       "'[{\"state\":\"future\",\"summary.due_date\":\"2023-04-07\",\"summary.close_date\":\"2023-03-31\",\"summary.past_balance\":0,\"summary.effective_due_date\":\"2023-04-10\",\"summary.total_balance\":6718,\"summary.interest_rate\":\"0.14\",\"summary.interest\":0,\"summary.total_cumulative\":6718,\"summary.paid\":0,\"summary.minimum_payment\":0,\"summary.open_date\":1680825600000,\"summary.late_interest_rate\":null,\"summary.late_fee\":null,\"_links.self.href\":null,\"_links.barcode.href\":null,\"_links.boleto_email.href\":null,\"id\":null,\"summary.remaining_balance\":null,\"summary.remaining_minimum_payment\":null},{\"state\":\"future\",\"summary.due_date\":\"2023-03-07\",\"summary.close_date\":\"2023-02-28\",\"summary.past_balance\":0,\"summary.effective_due_date\":\"2023-03-07\",\"summary.total_balance\":6718,\"summary.interest_rate\":\"0.14\",\"summary.interest\":0,\"summary.total_cumulative\":6718,\"summary.paid\":0,\"summary.minimum_payment\":0,\"summary.open_date\":1678147200000,\"summary.late_interest_rate\":null,\"summary.late_fee\":null,\"_links.self.href\":null,\"_links.barcode.href\":null,\"_links.boleto_email.href\":null,\"id\":null,\"summary.remaining_balance\":null,\"summary.remaining_minimum_payment\":null},{\"state\":\"future\",\"summary.due_date\":\"2023-02-07\",\"summary.close_date\":\"2023-01-31\",\"summary.past_balance\":0,\"summary.effective_due_date\":\"2023-02-07\",\"summary.total_balance\":11559,\"summary.interest_rate\":\"0.14\",\"summary.interest\":0,\"summary.total_cumulative\":11559,\"summary.paid\":0,\"summary.minimum_payment\":0,\"summary.open_date\":1675728000000,\"summary.late_interest_rate\":null,\"summary.late_fee\":null,\"_links.self.href\":null,\"_links.barcode.href\":null,\"_links.boleto_email.href\":null,\"id\":null,\"summary.remaining_balance\":null,\"summary.remaining_minimum_payment\":null},{\"state\":\"future\",\"summary.due_date\":\"2023-01-07\",\"summary.close_date\":\"2022-12-31\",\"summary.past_balance\":0,\"summary.effective_due_date\":\"2023-01-09\",\"summary.total_balance\":11559,\"summary.interest_rate\":\"0.14\",\"summary.interest\":0,\"summary.total_cumulative\":11559,\"summary.paid\":0,\"summary.minimum_payment\":0,\"summary.open_date\":1673049600000,\"summary.late_interest_rate\":null,\"summary.late_fee\":null,\"_links.self.href\":null,\"_links.barcode.href\":null,\"_links.boleto_email.href\":null,\"id\":null,\"summary.remaining_balance\":null,\"summary.remaining_minimum_payment\":null},{\"state\":\"future\",\"summary.due_date\":\"2022-12-07\",\"summary.close_date\":\"2022-11-30\",\"summary.past_balance\":0,\"summary.effective_due_date\":\"2022-12-07\",\"summary.total_balance\":13118,\"summary.interest_rate\":\"0.14\",\"summary.interest\":0,\"summary.total_cumulative\":13118,\"summary.paid\":0,\"summary.minimum_payment\":0,\"summary.open_date\":1670371200000,\"summary.late_interest_rate\":null,\"summary.late_fee\":null,\"_links.self.href\":null,\"_links.barcode.href\":null,\"_links.boleto_email.href\":null,\"id\":null,\"summary.remaining_balance\":null,\"summary.remaining_minimum_payment\":null},{\"state\":\"future\",\"summary.due_date\":\"2022-11-07\",\"summary.close_date\":\"2022-10-31\",\"summary.past_balance\":0,\"summary.effective_due_date\":\"2022-11-07\",\"summary.total_balance\":18025,\"summary.interest_rate\":\"0.14\",\"summary.interest\":0,\"summary.total_cumulative\":18025,\"summary.paid\":0,\"summary.minimum_payment\":0,\"summary.open_date\":1667779200000,\"summary.late_interest_rate\":null,\"summary.late_fee\":null,\"_links.self.href\":null,\"_links.barcode.href\":null,\"_links.boleto_email.href\":null,\"id\":null,\"summary.remaining_balance\":null,\"summary.remaining_minimum_payment\":null},{\"state\":\"future\",\"summary.due_date\":\"2022-10-07\",\"summary.close_date\":\"2022-09-30\",\"summary.past_balance\":0,\"summary.effective_due_date\":\"2022-10-07\",\"summary.total_balance\":23193,\"summary.interest_rate\":\"0.14\",\"summary.interest\":0,\"summary.total_cumulative\":23193,\"summary.paid\":0,\"summary.minimum_payment\":0,\"summary.open_date\":1665100800000,\"summary.late_interest_rate\":null,\"summary.late_fee\":null,\"_links.self.href\":null,\"_links.barcode.href\":null,\"_links.boleto_email.href\":null,\"id\":null,\"summary.remaining_balance\":null,\"summary.remaining_minimum_payment\":null},{\"state\":\"future\",\"summary.due_date\":\"2022-09-07\",\"summary.close_date\":\"2022-08-31\",\"summary.past_balance\":0,\"summary.effective_due_date\":\"2022-09-08\",\"summary.total_balance\":41010,\"summary.interest_rate\":\"0.14\",\"summary.interest\":0,\"summary.total_cumulative\":41010,\"summary.paid\":0,\"summary.minimum_payment\":0,\"summary.open_date\":1662508800000,\"summary.late_interest_rate\":null,\"summary.late_fee\":null,\"_links.self.href\":null,\"_links.barcode.href\":null,\"_links.boleto_email.href\":null,\"id\":null,\"summary.remaining_balance\":null,\"summary.remaining_minimum_payment\":null},{\"state\":\"future\",\"summary.due_date\":\"2022-08-07\",\"summary.close_date\":\"2022-07-31\",\"summary.past_balance\":0,\"summary.effective_due_date\":\"2022-08-08\",\"summary.total_balance\":75008,\"summary.interest_rate\":\"0.14\",\"summary.interest\":0,\"summary.total_cumulative\":75008,\"summary.paid\":0,\"summary.minimum_payment\":0,\"summary.open_date\":1659830400000,\"summary.late_interest_rate\":null,\"summary.late_fee\":null,\"_links.self.href\":null,\"_links.barcode.href\":null,\"_links.boleto_email.href\":null,\"id\":null,\"summary.remaining_balance\":null,\"summary.remaining_minimum_payment\":null},{\"state\":\"open\",\"summary.due_date\":\"2022-07-07\",\"summary.close_date\":\"2022-06-30\",\"summary.past_balance\":-54255,\"summary.effective_due_date\":\"2022-07-07\",\"summary.total_balance\":433314,\"summary.interest_rate\":\"0.14\",\"summary.interest\":0,\"summary.total_cumulative\":487569,\"summary.paid\":0,\"summary.minimum_payment\":0,\"summary.open_date\":1657152000000,\"summary.late_interest_rate\":\"0.15\",\"summary.late_fee\":\"0.02\",\"_links.self.href\":\"https:\\\\/\\\\/prod-s2-facade.nubank.com.br\\\\/api\\\\/accounts\\\\/5a175d5a-e668-4499-aaf5-11ac4f003c8d\\\\/bills\\\\/open\",\"_links.barcode.href\":\"https:\\\\/\\\\/prod-s2-facade.nubank.com.br\\\\/api\\\\/accounts\\\\/5a175d5a-e668-4499-aaf5-11ac4f003c8d\\\\/bills\\\\/open\\\\/boleto\\\\/barcode\",\"_links.boleto_email.href\":\"https:\\\\/\\\\/prod-s2-facade.nubank.com.br\\\\/api\\\\/accounts\\\\/5a175d5a-e668-4499-aaf5-11ac4f003c8d\\\\/bills\\\\/open\\\\/boleto\\\\/email\",\"id\":null,\"summary.remaining_balance\":null,\"summary.remaining_minimum_payment\":null},{\"state\":\"overdue\",\"summary.due_date\":\"2022-06-07\",\"summary.close_date\":\"2022-05-31\",\"summary.past_balance\":0,\"summary.effective_due_date\":\"2022-06-07\",\"summary.total_balance\":567230,\"summary.interest_rate\":\"0.14\",\"summary.interest\":0,\"summary.total_cumulative\":567230,\"summary.paid\":0,\"summary.minimum_payment\":112127,\"summary.open_date\":1654560000000,\"summary.late_interest_rate\":null,\"summary.late_fee\":null,\"_links.self.href\":\"https:\\\\/\\\\/prod-s2-facade.nubank.com.br\\\\/api\\\\/bills\\\\/629589a0-530b-425a-82c9-dc441dec512a\",\"_links.barcode.href\":null,\"_links.boleto_email.href\":null,\"id\":\"629589a0-530b-425a-82c9-dc441dec512a\",\"summary.remaining_balance\":0.0,\"summary.remaining_minimum_payment\":0.0}]'"
      ]
     },
     "execution_count": 573,
     "metadata": {},
     "output_type": "execute_result"
    }
   ],
   "source": [
    "from pynubank import Nubank\n",
    "nu = Nubank()\n",
    "import pandas as pd\n",
    "import matplotlib\n",
    "from datetime import date,datetime\n",
    "from pynubank import Nubank, MockHttpClient\n",
    "import json\n",
    "import jinja2\n",
    "import locale\n",
    "import dateutil.parser\n",
    "from pandas.io.json import json_normalize \n",
    "import numpy as np\n",
    "\n",
    "locale.setlocale(locale.LC_MONETARY, 'en_US.UTF-8')\n",
    "\n",
    "# nu = Nubank(MockHttpClient())\n",
    "nu = Nubank()\n",
    "# # # Essa linha funciona porque não estamos chamando o servidor do Nubank ;\n",
    "\n",
    "\n",
    "\n",
    "nu.authenticate_with_cert('09958780640', 'acbp0103', 'cert.p12')\n",
    "\n",
    "refresh_token = nu.authenticate_with_cert('09958780640', 'acbp0103', 'cert.p12')\n",
    "nu.authenticate_with_refresh_token(refresh_token, 'Cert.p12')\n",
    "\n",
    "open_date = pd.to_datetime('today').date() + pd.DateOffset(day=7)\n",
    "\n",
    "# print(start_date)\n",
    "# print(end_date)\n",
    "bills = nu.get_bills()\n",
    "get_bills = pd.json_normalize(bills)\n",
    "get_bills['summary.open_date'] = pd.to_datetime(get_bills['summary.due_date'])             \n",
    "get_bills =get_bills[get_bills['summary.open_date'] >= open_date]\n",
    "data = get_bills.to_json(orient='records')\n",
    "\n",
    "open_date\n",
    "data"
   ]
  },
  {
   "cell_type": "code",
   "execution_count": null,
   "id": "8fef67c4-ca67-4369-a356-3cd7eb8d992f",
   "metadata": {},
   "outputs": [],
   "source": []
  },
  {
   "cell_type": "code",
   "execution_count": null,
   "id": "b7eff7cf-184b-4aab-8d75-cdd6e49c5bc7",
   "metadata": {},
   "outputs": [],
   "source": []
  }
 ],
 "metadata": {
  "kernelspec": {
   "display_name": "Python 3 (ipykernel)",
   "language": "python",
   "name": "python3"
  },
  "language_info": {
   "codemirror_mode": {
    "name": "ipython",
    "version": 3
   },
   "file_extension": ".py",
   "mimetype": "text/x-python",
   "name": "python",
   "nbconvert_exporter": "python",
   "pygments_lexer": "ipython3",
   "version": "3.10.5"
  }
 },
 "nbformat": 4,
 "nbformat_minor": 5
}
